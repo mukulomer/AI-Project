{
  "nbformat": 4,
  "nbformat_minor": 0,
  "metadata": {
    "colab": {
      "name": "handwriting.ipynb",
      "provenance": [],
      "collapsed_sections": []
    },
    "kernelspec": {
      "name": "python3",
      "display_name": "Python 3"
    }
  },
  "cells": [
    {
      "cell_type": "markdown",
      "metadata": {
        "id": "UdpbsCKXMCdA",
        "colab_type": "text"
      },
      "source": [
        "\n",
        "## **Handwriting Recognition**"
      ]
    },
    {
      "cell_type": "markdown",
      "metadata": {
        "id": "0cAi59w5Mcru",
        "colab_type": "text"
      },
      "source": [
        "Handwriting recognition, also known as Handwritten Text Recognition, is the ability of a computer to receive and interpret intelligible handwritten input from sources such as paper documents, photographs, touch-screens and other devices. A handwriting recognition system handles formatting, performs correct segmentation into characters, and finds the most plausible words.\n",
        "\n",
        "This project seeks to classify an individual handwritten word so that handwritten text can be translated to a digital form. We can used two main approaches to accomplish this task: classifying words directly and character segmentation. For the former, we use Convolutional Neural Network (CNN) with various architectures to train a model that can accurately classify words. For the latter, we use Long Short Term Memory networks (LSTM) with convolution to construct bounding boxes for each character. We then pass the segmented characters to a CNN for classiﬁcation, and then reconstructeachwordaccordingtotheresultsofclassiﬁcation and segmentation.\n",
        "In this project we used **Handwriting Recognition using a Random Forest Classifier** approach.\n"
      ]
    },
    {
      "cell_type": "markdown",
      "metadata": {
        "id": "EmqN1x5HR7KA",
        "colab_type": "text"
      },
      "source": [
        "BY \n",
        "\n",
        "---\n",
        "1. Mukul Omer -17HCS4123\n",
        "2. Arun Rajak -17HCS4104\n",
        "3. Sachin Singh-17HCS41\n",
        "\n",
        "\n",
        "---\n",
        "\n",
        "\n"
      ]
    },
    {
      "cell_type": "markdown",
      "metadata": {
        "id": "3Mi-YX5XO-Eo",
        "colab_type": "text"
      },
      "source": [
        "**Import libraries and dataset from Scikit-Learn**"
      ]
    },
    {
      "cell_type": "code",
      "metadata": {
        "id": "etBOiNLcPNLp",
        "colab_type": "code",
        "colab": {}
      },
      "source": [
        "import matplotlib.pyplot as plt\n",
        "%matplotlib inline\n",
        "from sklearn.datasets import load_digits\n",
        "\n",
        "digits = load_digits()"
      ],
      "execution_count": 0,
      "outputs": []
    },
    {
      "cell_type": "markdown",
      "metadata": {
        "id": "lPflqM1SQat-",
        "colab_type": "text"
      },
      "source": [
        "**Analyze a sample image**"
      ]
    },
    {
      "cell_type": "code",
      "metadata": {
        "id": "Yjzsy5ERQjlK",
        "colab_type": "code",
        "colab": {}
      },
      "source": [
        "import pylab as pl \n",
        "pl.gray() \n",
        "pl.matshow(digits.images[0]) \n",
        "pl.show()"
      ],
      "execution_count": 0,
      "outputs": []
    },
    {
      "cell_type": "markdown",
      "metadata": {
        "id": "EgSCnAGkQvOK",
        "colab_type": "text"
      },
      "source": [
        "<matplotlib.figure.Figure at 0x8fab828>\n"
      ]
    },
    {
      "cell_type": "markdown",
      "metadata": {
        "id": "ZNlf4SukTV0J",
        "colab_type": "text"
      },
      "source": [
        "![alt text](data:image/png;base64,iVBORw0KGgoAAAANSUhEUgAAAP4AAAECCAYAAADesWqHAAAABHNCSVQICAgIfAhkiAAAAAlwSFlz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%0AH0iI4gMJUXwgof8A4C6Y4wlBav8AAAAASUVORK5CYII=%0A)"
      ]
    },
    {
      "cell_type": "markdown",
      "metadata": {
        "id": "TPyAIs7eTbPR",
        "colab_type": "text"
      },
      "source": [
        "**Analyze image pixels**"
      ]
    },
    {
      "cell_type": "markdown",
      "metadata": {
        "id": "WVIFFm24TwAc",
        "colab_type": "text"
      },
      "source": [
        "Each element represents the pixel of our greyscale image. The value ranges from 0 to 255 for an 8 bit pixel."
      ]
    },
    {
      "cell_type": "markdown",
      "metadata": {
        "id": "yYTKmixLRYQf",
        "colab_type": "text"
      },
      "source": [
        "**digits.images[0]**"
      ]
    },
    {
      "cell_type": "code",
      "metadata": {
        "id": "QxA2AXU4Rlq3",
        "colab_type": "code",
        "colab": {}
      },
      "source": [
        "array([[  0.,   0.,   5.,  13.,   9.,   1.,   0.,   0.],\n",
        "       [  0.,   0.,  13.,  15.,  10.,  15.,   5.,   0.],\n",
        "       [  0.,   3.,  15.,   2.,   0.,  11.,   8.,   0.],\n",
        "       [  0.,   4.,  12.,   0.,   0.,   8.,   8.,   0.],\n",
        "       [  0.,   5.,   8.,   0.,   0.,   9.,   8.,   0.],\n",
        "       [  0.,   4.,  11.,   0.,   1.,  12.,   7.,   0.],\n",
        "       [  0.,   2.,  14.,   5.,  10.,  12.,   0.,   0.],\n",
        "       [  0.,   0.,   6.,  13.,  10.,   0.,   0.,   0.]])"
      ],
      "execution_count": 0,
      "outputs": []
    },
    {
      "cell_type": "markdown",
      "metadata": {
        "id": "Dr8f6x5bSApq",
        "colab_type": "text"
      },
      "source": [
        "**Visualize first 15 images**"
      ]
    },
    {
      "cell_type": "code",
      "metadata": {
        "id": "2oflgSxXUdaO",
        "colab_type": "code",
        "colab": {}
      },
      "source": [
        "images_and_labels = list(zip(digits.images, digits.target))\n",
        "plt.figure(figsize=(5,5))\n",
        "for index, (image, label) in enumerate(images_and_labels[:15]):\n",
        "    plt.subplot(3, 5, index + 1)\n",
        "    plt.axis('off')\n",
        "    plt.imshow(image, cmap=plt.cm.gray_r, interpolation='nearest')\n",
        "    plt.title('%i' % label)"
      ],
      "execution_count": 0,
      "outputs": []
    },
    {
      "cell_type": "markdown",
      "metadata": {
        "id": "OydBBVEKT3xD",
        "colab_type": "text"
      },
      "source": [
        "![image.png](data:image/png;base64,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)"
      ]
    },
    {
      "cell_type": "code",
      "metadata": {
        "id": "8PvI9aFeT_0L",
        "colab_type": "code",
        "colab": {}
      },
      "source": [
        "import random\n",
        "from sklearn import ensemble\n",
        "\n",
        "#Define variables\n",
        "n_samples = len(digits.images)\n",
        "x = digits.images.reshape((n_samples, -1))\n",
        "y = digits.target\n",
        "\n",
        "#Create random indices \n",
        "sample_index=random.sample(range(len(x)),len(x)/5) #20-80\n",
        "valid_index=[i for i in range(len(x)) if i not in sample_index]\n",
        "\n",
        "#Sample and validation images\n",
        "sample_images=[x[i] for i in sample_index]\n",
        "valid_images=[x[i] for i in valid_index]\n",
        "\n",
        "#Sample and validation targets\n",
        "sample_target=[y[i] for i in sample_index]\n",
        "valid_target=[y[i] for i in valid_index]\n",
        "\n",
        "#Using the Random Forest Classifier\n",
        "classifier = ensemble.RandomForestClassifier()\n",
        "\n",
        "#Fit model with sample data\n",
        "classifier.fit(sample_images, sample_target)\n",
        "\n",
        "#Attempt to predict validation data\n",
        "score=classifier.score(valid_images, valid_target)\n",
        "print 'Random Tree Classifier:\\n' \n",
        "print 'Score\\t'+str(score)"
      ],
      "execution_count": 0,
      "outputs": []
    },
    {
      "cell_type": "markdown",
      "metadata": {
        "id": "rDe29njxUswQ",
        "colab_type": "text"
      },
      "source": [
        "Random Tree Classifier:\n",
        "\n",
        "Score\t0.879694019471"
      ]
    },
    {
      "cell_type": "code",
      "metadata": {
        "id": "kgExCdJjUvoB",
        "colab_type": "code",
        "colab": {}
      },
      "source": [
        "i=150\n",
        "\n",
        "pl.gray() \n",
        "pl.matshow(digits.images[i]) \n",
        "pl.show() \n",
        "classifier.predict(x[i])"
      ],
      "execution_count": 0,
      "outputs": []
    },
    {
      "cell_type": "markdown",
      "metadata": {
        "id": "s3m8zbUOU-Ob",
        "colab_type": "text"
      },
      "source": [
        "![image.png](data:image/png;base64,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)"
      ]
    }
  ]
}